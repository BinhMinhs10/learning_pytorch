{
 "cells": [
  {
   "cell_type": "code",
   "execution_count": 1,
   "metadata": {},
   "outputs": [
    {
     "data": {
      "text/plain": [
       "<torch._C.Generator at 0x7f32f60e2c10>"
      ]
     },
     "execution_count": 1,
     "metadata": {},
     "output_type": "execute_result"
    }
   ],
   "source": [
    "import torch\n",
    "import torch.autograd as autograd\n",
    "import torch.nn as nn\n",
    "import torch.nn.functional as F\n",
    "import torch.optim as optim\n",
    "torch.manual_seed(1)"
   ]
  },
  {
   "cell_type": "code",
   "execution_count": 2,
   "metadata": {},
   "outputs": [
    {
     "name": "stdout",
     "output_type": "stream",
     "text": [
      "tensor([[ 0.6614,  0.2669,  0.0617,  0.6213, -0.4519],\n",
      "        [-0.1661, -1.5228,  0.3817, -1.0276, -0.5631],\n",
      "        [-0.8923, -0.0583, -0.1955, -0.9656,  0.4224],\n",
      "        [ 0.2673, -0.4212, -0.5107, -1.5727, -0.1232],\n",
      "        [ 3.5870, -1.8313,  1.5987, -1.2770,  0.3255]])\n",
      "tensor([[-0.4791,  1.3790,  2.5286,  0.5423,  0.1103],\n",
      "        [ 0.4107, -0.9880, -0.9081, -2.2590,  0.6067]])\n"
     ]
    }
   ],
   "source": [
    "x_1 = torch.randn(2, 5)\n",
    "y_1 = torch.randn(3, 5)\n",
    "z_1 = torch.cat([x_1, y_1])\n",
    "print(z_1)\n",
    "\n",
    "# Concatenate columns\n",
    "x_2 = torch.randn(2, 3)\n",
    "y_2 = torch.randn(2, 2)\n",
    "z_2 = torch.cat([x_2, y_2], 1)\n",
    "print(z_2)"
   ]
  },
  {
   "cell_type": "code",
   "execution_count": 3,
   "metadata": {},
   "outputs": [
    {
     "name": "stdout",
     "output_type": "stream",
     "text": [
      "tensor([[[ 0.9837,  0.8793, -1.4504, -1.1802],\n",
      "         [ 0.4100,  0.4085,  0.2579,  1.0950],\n",
      "         [ 0.6614,  1.1899,  0.8165, -0.9135]],\n",
      "\n",
      "        [[ 1.3851, -0.8138, -0.9276,  1.1120],\n",
      "         [ 1.3352,  0.6043, -0.1034, -0.1512],\n",
      "         [-2.1021, -0.6200, -1.4782, -1.1334]]])\n",
      "tensor([[ 0.9837,  0.8793, -1.4504, -1.1802,  0.4100,  0.4085,  0.2579,  1.0950,\n",
      "          0.6614,  1.1899,  0.8165, -0.9135],\n",
      "        [ 1.3851, -0.8138, -0.9276,  1.1120,  1.3352,  0.6043, -0.1034, -0.1512,\n",
      "         -2.1021, -0.6200, -1.4782, -1.1334]])\n",
      "tensor([[ 0.9837,  0.8793, -1.4504, -1.1802,  0.4100,  0.4085,  0.2579,  1.0950,\n",
      "          0.6614,  1.1899,  0.8165, -0.9135],\n",
      "        [ 1.3851, -0.8138, -0.9276,  1.1120,  1.3352,  0.6043, -0.1034, -0.1512,\n",
      "         -2.1021, -0.6200, -1.4782, -1.1334]])\n"
     ]
    }
   ],
   "source": [
    "x = torch.randn(2, 3, 4)\n",
    "print(x)\n",
    "print(x.view(2, 12)) # reshape to 2 rows, 12 columns\n",
    "print(x.view(2, -1)) # -1 in size auto inferred"
   ]
  },
  {
   "cell_type": "code",
   "execution_count": null,
   "metadata": {},
   "outputs": [],
   "source": []
  }
 ],
 "metadata": {
  "kernelspec": {
   "display_name": "Python 3",
   "language": "python",
   "name": "python3"
  },
  "language_info": {
   "codemirror_mode": {
    "name": "ipython",
    "version": 3
   },
   "file_extension": ".py",
   "mimetype": "text/x-python",
   "name": "python",
   "nbconvert_exporter": "python",
   "pygments_lexer": "ipython3",
   "version": "3.7.4"
  },
  "toc": {
   "base_numbering": 1,
   "nav_menu": {},
   "number_sections": true,
   "sideBar": true,
   "skip_h1_title": false,
   "title_cell": "Table of Contents",
   "title_sidebar": "Contents",
   "toc_cell": false,
   "toc_position": {},
   "toc_section_display": true,
   "toc_window_display": false
  }
 },
 "nbformat": 4,
 "nbformat_minor": 2
}
